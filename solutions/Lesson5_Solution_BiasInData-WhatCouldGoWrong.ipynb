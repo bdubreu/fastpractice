{
 "cells": [
  {
   "cell_type": "markdown",
   "metadata": {
    "colab_type": "text",
    "id": "bvLouLxUQIQa"
   },
   "source": [
    "# Let's see if we can create a model that can predict whether an online comment is toxic or not"
   ]
  },
  {
   "cell_type": "markdown",
   "metadata": {},
   "source": [
    "In the lesson on Data Ethics, Rachel emphasized a very important points (Jeremy has been emphasizing that point throughout the lessons too): the model is biased by the data it is fed.\n",
    "\n",
    "Regarding this, something interesting happened in a Kaggle competition not so long ago."
   ]
  },
  {
   "cell_type": "markdown",
   "metadata": {
    "colab_type": "text",
    "id": "VHaLk_Gz9XEX"
   },
   "source": [
    "We will use data from a previous Kaggle Competition: https://www.kaggle.com/c/jigsaw-toxic-comment-classification-challenge/\n",
    "\n",
    "Jigsaw:\n",
    "\n",
    "The goal of the competition was to build a model that could detect \"toxic\" comments on online discussion platforms. \n",
    "\n",
    "A toxic comment is a comment that can make the other person leave the conversation (racial insult, attack against gender, or religion, etc).\n",
    "\n",
    "Competitors were given a dataset of text comments, and with every comment, several labels indicating whether the comment was toxic, if it was obscene, or if it contained an insult, etc... \n",
    "\n",
    "I've created a subset of this dataset for you, so that training goes faster on Colab. But the whole dataset is also available ;) "
   ]
  },
  {
   "cell_type": "code",
   "execution_count": 0,
   "metadata": {
    "colab": {},
    "colab_type": "code",
    "id": "pjbBsXbc8xUn"
   },
   "outputs": [],
   "source": [
    "!pip install fastai2 > ../dev/null\n",
    "!pip install utils > ../dev/null  "
   ]
  },
  {
   "cell_type": "code",
   "execution_count": 0,
   "metadata": {
    "colab": {},
    "colab_type": "code",
    "id": "LAnz30iW9RQn"
   },
   "outputs": [],
   "source": [
    "from fastai2.text.all import *"
   ]
  },
  {
   "cell_type": "code",
   "execution_count": 0,
   "metadata": {
    "colab": {
     "base_uri": "https://localhost:8080/",
     "height": 124
    },
    "colab_type": "code",
    "id": "auepBGE_AWmf",
    "outputId": "b78d54a9-780a-4abd-a26e-1b8980715d3b"
   },
   "outputs": [
    {
     "name": "stdout",
     "output_type": "stream",
     "text": [
      "Go to this URL in a browser: https://accounts.google.com/o/oauth2/auth?client_id=947318989803-6bn6qk8qdgf4n4g3pfee6491hc0brc4i.apps.googleusercontent.com&redirect_uri=urn%3aietf%3awg%3aoauth%3a2.0%3aoob&response_type=code&scope=email%20https%3a%2f%2fwww.googleapis.com%2fauth%2fdocs.test%20https%3a%2f%2fwww.googleapis.com%2fauth%2fdrive%20https%3a%2f%2fwww.googleapis.com%2fauth%2fdrive.photos.readonly%20https%3a%2f%2fwww.googleapis.com%2fauth%2fpeopleapi.readonly\n",
      "\n",
      "Enter your authorization code:\n",
      "··········\n",
      "Mounted at /content/gdrive\n"
     ]
    }
   ],
   "source": [
    "from google.colab import drive\n",
    "drive.mount('/content/gdrive')"
   ]
  },
  {
   "cell_type": "code",
   "execution_count": 0,
   "metadata": {
    "colab": {
     "base_uri": "https://localhost:8080/",
     "height": 54
    },
    "colab_type": "code",
    "id": "dWe33uMhAblX",
    "outputId": "3ab2afca-2782-4349-8e15-e9a1350abd0e"
   },
   "outputs": [
    {
     "data": {
      "text/plain": [
       "(#5) [Path('gdrive/My Drive/FastPractice/datasets/jigsaw/jigsaw-toxic-comment-classification-challenge/train.csv'),Path('gdrive/My Drive/FastPractice/datasets/jigsaw/jigsaw-toxic-comment-classification-challenge/test.csv'),Path('gdrive/My Drive/FastPractice/datasets/jigsaw/jigsaw-toxic-comment-classification-challenge/sample_submission.csv'),Path('gdrive/My Drive/FastPractice/datasets/jigsaw/jigsaw-toxic-comment-classification-challenge/test_labels.csv'),Path('gdrive/My Drive/FastPractice/datasets/jigsaw/jigsaw-toxic-comment-classification-challenge/fastpractice_df.csv')]"
      ]
     },
     "execution_count": 5,
     "metadata": {
      "tags": []
     },
     "output_type": "execute_result"
    }
   ],
   "source": [
    "# figure out in which part of your drive the dataset is\n",
    "path = Path('gdrive/My Drive/FastPractice/datasets/jigsaw/jigsaw-toxic-comment-classification-challenge/')\n",
    "path.ls()"
   ]
  },
  {
   "cell_type": "code",
   "execution_count": 0,
   "metadata": {
    "colab": {
     "base_uri": "https://localhost:8080/",
     "height": 362
    },
    "colab_type": "code",
    "id": "eSnXdHTSQuh3",
    "outputId": "33e5ecbf-cd0d-4768-e124-db36ffe1138b"
   },
   "outputs": [
    {
     "data": {
      "text/html": [
       "<div>\n",
       "<style scoped>\n",
       "    .dataframe tbody tr th:only-of-type {\n",
       "        vertical-align: middle;\n",
       "    }\n",
       "\n",
       "    .dataframe tbody tr th {\n",
       "        vertical-align: top;\n",
       "    }\n",
       "\n",
       "    .dataframe thead th {\n",
       "        text-align: right;\n",
       "    }\n",
       "</style>\n",
       "<table border=\"1\" class=\"dataframe\">\n",
       "  <thead>\n",
       "    <tr style=\"text-align: right;\">\n",
       "      <th></th>\n",
       "      <th>Unnamed: 0</th>\n",
       "      <th>text</th>\n",
       "      <th>label</th>\n",
       "    </tr>\n",
       "  </thead>\n",
       "  <tbody>\n",
       "    <tr>\n",
       "      <th>0</th>\n",
       "      <td>6145</td>\n",
       "      <td>Your a racist \\n\\nSorry your being an avowed and shown racist suggests your opinion is biased. We will not donate any funds now as your on wikipedia.\\nBye.</td>\n",
       "      <td>not_toxic</td>\n",
       "    </tr>\n",
       "    <tr>\n",
       "      <th>1</th>\n",
       "      <td>65839</td>\n",
       "      <td>\"\\n\\n Oh genius image-finder... \\n\\nI am trying to find a PD image of Spokane (horse).  I can find several, but cannot verify publication date.  I found plenty of stories in PD at Hathi trust and elsewhere, but PD images elude me... I'll go fair use with one if I must, but... can you help?  Thanks!  Oh, and FYI, I finally got Kenneth and Sarah Ramsey into mainspace!  (talk) \"</td>\n",
       "      <td>not_toxic</td>\n",
       "    </tr>\n",
       "    <tr>\n",
       "      <th>2</th>\n",
       "      <td>36019</td>\n",
       "      <td>It has been 25 years since I read Jung's book on synchronicity, but there is a summary at the back of the book describing the acausal conncecting principal.  While I can see that there are similarities in the 2 philosophies of Astrology &amp; Synchronicity, I do not see that the primary source (Jung) was referring to astrology at the time that he described the principal.\\n\\nHowever, I am willing to re-read any (few) pages of Jung's works you cite.</td>\n",
       "      <td>not_toxic</td>\n",
       "    </tr>\n",
       "    <tr>\n",
       "      <th>3</th>\n",
       "      <td>37936</td>\n",
       "      <td>Sounds good. But AFAIK, isn't the CWS open to the children of all visitors and members, regardless if they were offered or not?</td>\n",
       "      <td>not_toxic</td>\n",
       "    </tr>\n",
       "    <tr>\n",
       "      <th>4</th>\n",
       "      <td>52640</td>\n",
       "      <td>\"\\n\\n You warned me once. I disagreed with you. You insisted that I had indeed previously made a mistake, somehow breaching policy. That's not a second warning; that's you and I arguing. Viriditas seemed to chime in on your side of the argument. You blocked me. I still didn't do anything else after your first warning. I don't see how that calls for your blocking me, other than your being upset that I disagreed with you. That's not your job, and that's not how Wikipedia is run. talk \"</td>\n",
       "      <td>not_toxic</td>\n",
       "    </tr>\n",
       "  </tbody>\n",
       "</table>\n",
       "</div>"
      ],
      "text/plain": [
       "   Unnamed: 0  ...      label\n",
       "0        6145  ...  not_toxic\n",
       "1       65839  ...  not_toxic\n",
       "2       36019  ...  not_toxic\n",
       "3       37936  ...  not_toxic\n",
       "4       52640  ...  not_toxic\n",
       "\n",
       "[5 rows x 3 columns]"
      ]
     },
     "execution_count": 57,
     "metadata": {
      "tags": []
     },
     "output_type": "execute_result"
    }
   ],
   "source": [
    "# use pandas to load the fastpractice_df csv file and show its first 5 rows\n",
    "df = pd.read_csv(path/'fastpractice_df.csv')\n",
    "df.head()"
   ]
  },
  {
   "cell_type": "code",
   "execution_count": 0,
   "metadata": {
    "colab": {
     "base_uri": "https://localhost:8080/",
     "height": 69
    },
    "colab_type": "code",
    "id": "pN0oWK0fK_oG",
    "outputId": "d7035d4f-99ff-414d-dd13-ff67eb2c44f1"
   },
   "outputs": [
    {
     "data": {
      "text/plain": [
       "not_toxic    45447\n",
       "toxic        15294\n",
       "Name: label, dtype: int64"
      ]
     },
     "execution_count": 58,
     "metadata": {
      "tags": []
     },
     "output_type": "execute_result"
    }
   ],
   "source": [
    "# plot the counts of possible values in the 'label' column of the dataset\n",
    "df['label'].value_counts()"
   ]
  },
  {
   "cell_type": "code",
   "execution_count": 0,
   "metadata": {
    "colab": {
     "base_uri": "https://localhost:8080/",
     "height": 17
    },
    "colab_type": "code",
    "id": "pybUyX9POR_I",
    "outputId": "641f1c60-bfdf-4c27-f29f-17697c8bc4dd"
   },
   "outputs": [
    {
     "data": {
      "text/html": [],
      "text/plain": [
       "<IPython.core.display.HTML object>"
      ]
     },
     "metadata": {
      "tags": []
     },
     "output_type": "display_data"
    }
   ],
   "source": [
    "# Create DataLoaders that work with text. \n",
    "# You are getting better now, so I believe you don't need starter code ;)\n",
    "dls = TextDataLoaders.from_df(df,\n",
    "                              valid_pct=0.2,\n",
    "                              text_col='text',\n",
    "                              label_col='label'\n",
    "                              )\n",
    "\n",
    "assert dls.c == 2"
   ]
  },
  {
   "cell_type": "code",
   "execution_count": 0,
   "metadata": {
    "colab": {
     "base_uri": "https://localhost:8080/",
     "height": 300
    },
    "colab_type": "code",
    "id": "9cD5QJAHpm6s",
    "outputId": "4618b903-5144-4c3c-98e3-ab8d38ecd2a2"
   },
   "outputs": [
    {
     "data": {
      "text/html": [
       "<table border=\"1\" class=\"dataframe\">\n",
       "  <thead>\n",
       "    <tr style=\"text-align: right;\">\n",
       "      <th></th>\n",
       "      <th>text</th>\n",
       "      <th>category</th>\n",
       "    </tr>\n",
       "  </thead>\n",
       "  <tbody>\n",
       "    <tr>\n",
       "      <th>0</th>\n",
       "      <td>xxbos xxmaj take that ! \\n\\n xxup in xxup the xxup ass xxup in xxup the xxup ass xxup in xxup the xxup ass xxup in xxup the xxup ass xxup in xxup the xxup ass xxup in xxup the xxup ass xxup in xxup the xxup ass xxup in xxup the xxup ass xxup in xxup the xxup ass xxup in xxup the xxup ass xxup in xxup the xxup ass xxup in xxup the xxup ass xxup in xxup the xxup ass xxup in xxup the xxup ass xxup in xxup the xxup ass xxup in xxup the xxup ass xxup in xxup the xxup ass xxup in xxup the xxup ass xxup in xxup the xxup ass xxup in xxup the xxup ass xxup in xxup the xxup ass xxup in xxup the xxup ass xxup in xxup the xxup ass xxup in xxup the xxup ass</td>\n",
       "      <td>toxic</td>\n",
       "    </tr>\n",
       "    <tr>\n",
       "      <th>1</th>\n",
       "      <td>xxbos do go fuck off bastard \\n xxmaj do xxmaj xxunk xxmaj have a life ? \\n go fuck off bastard and yank your cock through your ass . i hate you and hope you go away forever . lame is you fuck your mom . xxwrep 3 die and all that crap . this is for xxunk xxunk \\n ass . i ass . i ass . i ass . i ass . i ass . i ass . i ass . i ass . i ass . i ass . i ass . i ass . i ass . i ass . i ass . i ass . i ass . i ass . i ass . i ass . i ass . i ass . i ass . i ass . i ass . i ass . i ass . i ass . i ass . i</td>\n",
       "      <td>toxic</td>\n",
       "    </tr>\n",
       "    <tr>\n",
       "      <th>2</th>\n",
       "      <td>xxbos xxmaj do i know you ? = = because xxmaj you are a xxup fggt ! \\n▁ xxmaj do i know you ? because xxmaj you are a xxup fggt ! \\n▁ xxmaj do i know you ? because xxmaj you are a xxup fggt ! \\n▁ xxmaj do i know you ? because xxmaj you are a xxup fggt ! \\n▁ xxmaj do i know you ? because xxmaj you are a xxup fggt ! \\n▁ xxmaj do i know you ? because xxmaj you are a xxup fggt ! \\n▁ xxmaj do i know you ? because xxmaj you are a xxup fggt ! \\n▁ xxmaj do i know you ? because xxmaj you are a xxup fggt ! \\n▁ xxmaj do i know you ? because xxmaj you are a xxup fggt ! \\n▁ xxmaj do i know you ? because xxmaj you are a xxup</td>\n",
       "      <td>toxic</td>\n",
       "    </tr>\n",
       "  </tbody>\n",
       "</table>"
      ],
      "text/plain": [
       "<IPython.core.display.HTML object>"
      ]
     },
     "metadata": {
      "tags": []
     },
     "output_type": "display_data"
    }
   ],
   "source": [
    "# Show the first three examples of a batch to see if your dataset was properly encoded\n",
    "dls.show_batch(max_n=3)"
   ]
  },
  {
   "cell_type": "markdown",
   "metadata": {},
   "source": [
    "Each exmaple starts with \"xxbos\" for \"specialtoken(xx) beginningofsentence(bos)\""
   ]
  },
  {
   "cell_type": "code",
   "execution_count": 0,
   "metadata": {
    "colab": {
     "base_uri": "https://localhost:8080/",
     "height": 175
    },
    "colab_type": "code",
    "id": "OZYxWle3OVhj",
    "outputId": "a8e6ef37-042a-4946-e60f-3468a9082866"
   },
   "outputs": [
    {
     "data": {
      "text/html": [
       "<table border=\"1\" class=\"dataframe\">\n",
       "  <thead>\n",
       "    <tr style=\"text-align: left;\">\n",
       "      <th>epoch</th>\n",
       "      <th>train_loss</th>\n",
       "      <th>valid_loss</th>\n",
       "      <th>accuracy</th>\n",
       "      <th>time</th>\n",
       "    </tr>\n",
       "  </thead>\n",
       "  <tbody>\n",
       "    <tr>\n",
       "      <td>0</td>\n",
       "      <td>0.500239</td>\n",
       "      <td>0.277463</td>\n",
       "      <td>0.880474</td>\n",
       "      <td>03:36</td>\n",
       "    </tr>\n",
       "  </tbody>\n",
       "</table>"
      ],
      "text/plain": [
       "<IPython.core.display.HTML object>"
      ]
     },
     "metadata": {
      "tags": []
     },
     "output_type": "display_data"
    },
    {
     "data": {
      "text/html": [
       "<table border=\"1\" class=\"dataframe\">\n",
       "  <thead>\n",
       "    <tr style=\"text-align: left;\">\n",
       "      <th>epoch</th>\n",
       "      <th>train_loss</th>\n",
       "      <th>valid_loss</th>\n",
       "      <th>accuracy</th>\n",
       "      <th>time</th>\n",
       "    </tr>\n",
       "  </thead>\n",
       "  <tbody>\n",
       "    <tr>\n",
       "      <td>0</td>\n",
       "      <td>0.194320</td>\n",
       "      <td>0.194003</td>\n",
       "      <td>0.919987</td>\n",
       "      <td>08:44</td>\n",
       "    </tr>\n",
       "    <tr>\n",
       "      <td>1</td>\n",
       "      <td>0.152758</td>\n",
       "      <td>0.167933</td>\n",
       "      <td>0.930853</td>\n",
       "      <td>07:48</td>\n",
       "    </tr>\n",
       "  </tbody>\n",
       "</table>"
      ],
      "text/plain": [
       "<IPython.core.display.HTML object>"
      ]
     },
     "metadata": {
      "tags": []
     },
     "output_type": "display_data"
    }
   ],
   "source": [
    "# Create a learner and fine_tune it for 2 epochs (you can do more, but it may take a while)\n",
    "learn = text_classifier_learner(dls, AWD_LSTM, drop_mult=0.4, metrics=accuracy)\n",
    "learn.fine_tune(2, 1e-2)"
   ]
  },
  {
   "cell_type": "code",
   "execution_count": 0,
   "metadata": {
    "colab": {
     "base_uri": "https://localhost:8080/",
     "height": 311
    },
    "colab_type": "code",
    "id": "CDtllu5R2d2z",
    "outputId": "2fd3a8b3-3e77-4460-aed3-585f554444e7"
   },
   "outputs": [
    {
     "data": {
      "image/png": "[encoded data removed]",
      "text/plain": [
       "<Figure size 432x288 with 1 Axes>"
      ]
     },
     "metadata": {
      "needs_background": "light",
      "tags": []
     },
     "output_type": "display_data"
    }
   ],
   "source": [
    "# Create a classification interpretation object from your learner and plot the confusion matrix to see your results\n",
    "interp = ClassificationInterpretation.from_learner(learn)\n",
    "interp.plot_confusion_matrix()"
   ]
  },
  {
   "cell_type": "markdown",
   "metadata": {
    "colab_type": "text",
    "id": "uVhHRqydO-ed"
   },
   "source": [
    "So far so good, right ? The learning goes steadily and we get good results. The confusion matrix doesn't look too bad either. Jeremy will probably go into more detail about what you can do to get even better results this in upcoming lessons.\n",
    "\n",
    " Feel free to come back to this notebook then, I see if you can improve the accuracy. (Of course, I made a sample dataset to have the notebook run more quickly. Feel free to try again with the whole dataset ;) )\n"
   ]
  },
  {
   "cell_type": "markdown",
   "metadata": {
    "colab_type": "text",
    "id": "oIQo9oRt7Qqu"
   },
   "source": [
    "# Taking a closer look at the results"
   ]
  },
  {
   "cell_type": "markdown",
   "metadata": {
    "colab_type": "text",
    "id": "S0fbDnWB4y2S"
   },
   "source": [
    "NOTE: the following examples were results after my training. They might not work all the time. Maybe your model will predict \"a black man\" to be a perfecly valid, not toxic sentence. But overall, you'll see that \"black\" or \"white\" or \"muslim\" usually make your model predict a stronger probability for the \"toxic\" class, even if it doesn't necessarily pass 50% in your case"
   ]
  },
  {
   "cell_type": "code",
   "execution_count": 0,
   "metadata": {
    "colab": {
     "base_uri": "https://localhost:8080/",
     "height": 34
    },
    "colab_type": "code",
    "id": "-gEStqcV3V_o",
    "outputId": "8cf67ade-bca4-48b1-9a08-1555bc50b90a"
   },
   "outputs": [
    {
     "data": {
      "text/html": [],
      "text/plain": [
       "<IPython.core.display.HTML object>"
      ]
     },
     "metadata": {
      "tags": []
     },
     "output_type": "display_data"
    },
    {
     "data": {
      "text/plain": [
       "('not_toxic', tensor(0), tensor([0.7370, 0.2630]))"
      ]
     },
     "execution_count": 78,
     "metadata": {
      "tags": []
     },
     "output_type": "execute_result"
    }
   ],
   "source": [
    "# So far, so good:\n",
    "learn.predict('a man')"
   ]
  },
  {
   "cell_type": "code",
   "execution_count": 0,
   "metadata": {
    "colab": {
     "base_uri": "https://localhost:8080/",
     "height": 34
    },
    "colab_type": "code",
    "id": "AOZsxjvQ7OKv",
    "outputId": "27690ad1-8543-4f55-b170-ba9fd142621d"
   },
   "outputs": [
    {
     "data": {
      "text/html": [],
      "text/plain": [
       "<IPython.core.display.HTML object>"
      ]
     },
     "metadata": {
      "tags": []
     },
     "output_type": "display_data"
    },
    {
     "data": {
      "text/plain": [
       "('toxic', tensor(1), tensor([0.4556, 0.5444]))"
      ]
     },
     "execution_count": 79,
     "metadata": {
      "tags": []
     },
     "output_type": "execute_result"
    }
   ],
   "source": [
    "# alas: \n",
    "learn.predict('a black man')"
   ]
  },
  {
   "cell_type": "code",
   "execution_count": 0,
   "metadata": {
    "colab": {
     "base_uri": "https://localhost:8080/",
     "height": 34
    },
    "colab_type": "code",
    "id": "OME7NBxY7Jc9",
    "outputId": "5ddb8cc3-482b-494d-a7fa-34982df2d6a2"
   },
   "outputs": [
    {
     "data": {
      "text/html": [],
      "text/plain": [
       "<IPython.core.display.HTML object>"
      ]
     },
     "metadata": {
      "tags": []
     },
     "output_type": "display_data"
    },
    {
     "data": {
      "text/plain": [
       "('toxic', tensor(1), tensor([0.4463, 0.5537]))"
      ]
     },
     "execution_count": 80,
     "metadata": {
      "tags": []
     },
     "output_type": "execute_result"
    }
   ],
   "source": [
    "# but it's not only \"black\":\n",
    "learn.predict('a white man')"
   ]
  },
  {
   "cell_type": "code",
   "execution_count": 0,
   "metadata": {
    "colab": {
     "base_uri": "https://localhost:8080/",
     "height": 69
    },
    "colab_type": "code",
    "id": "9gJ3ozO73Vu5",
    "outputId": "75be7d35-4538-4da8-ef8e-6e0a720e83a5"
   },
   "outputs": [
    {
     "data": {
      "text/html": [],
      "text/plain": [
       "<IPython.core.display.HTML object>"
      ]
     },
     "metadata": {
      "tags": []
     },
     "output_type": "display_data"
    },
    {
     "name": "stdout",
     "output_type": "stream",
     "text": [
      "woman: ('not_toxic', tensor(0), tensor([0.5999, 0.4001]))\n"
     ]
    },
    {
     "data": {
      "text/html": [],
      "text/plain": [
       "<IPython.core.display.HTML object>"
      ]
     },
     "metadata": {
      "tags": []
     },
     "output_type": "display_data"
    },
    {
     "name": "stdout",
     "output_type": "stream",
     "text": [
      "white woman: ('toxic', tensor(1), tensor([0.4053, 0.5947]))\n"
     ]
    },
    {
     "data": {
      "text/html": [],
      "text/plain": [
       "<IPython.core.display.HTML object>"
      ]
     },
     "metadata": {
      "tags": []
     },
     "output_type": "display_data"
    },
    {
     "name": "stdout",
     "output_type": "stream",
     "text": [
      "black woman: ('toxic', tensor(1), tensor([0.4006, 0.5994]))\n"
     ]
    }
   ],
   "source": [
    "# See how every time you had info about the color of a person, your comment becomes \"toxic\" ?\n",
    "print('woman:', learn.predict('a woman'))\n",
    "print('white woman:', learn.predict('a white woman'))\n",
    "print('black woman:', learn.predict('a black woman'))"
   ]
  },
  {
   "cell_type": "code",
   "execution_count": 0,
   "metadata": {
    "colab": {
     "base_uri": "https://localhost:8080/",
     "height": 34
    },
    "colab_type": "code",
    "id": "4difasn93Vf0",
    "outputId": "8e6a55ed-c9a4-4038-c10e-0f10a81dd304"
   },
   "outputs": [
    {
     "data": {
      "text/html": [],
      "text/plain": [
       "<IPython.core.display.HTML object>"
      ]
     },
     "metadata": {
      "tags": []
     },
     "output_type": "display_data"
    },
    {
     "data": {
      "text/plain": [
       "('toxic', tensor(1), tensor([0.0693, 0.9307]))"
      ]
     },
     "execution_count": 82,
     "metadata": {
      "tags": []
     },
     "output_type": "execute_result"
    }
   ],
   "source": [
    "# Let's add religion into the mix :-)\n",
    "# See how that last probability went THROUGH the roof ?? The model is 0.93% sure the comment is toxic...\n",
    "learn.predict('I am a black muslim woman who loves her children')"
   ]
  },
  {
   "cell_type": "code",
   "execution_count": 0,
   "metadata": {
    "colab": {
     "base_uri": "https://localhost:8080/",
     "height": 34
    },
    "colab_type": "code",
    "id": "m2G1HACO3TaN",
    "outputId": "5c9285ce-da12-4377-9f8b-8827d5101f3e"
   },
   "outputs": [
    {
     "data": {
      "text/html": [],
      "text/plain": [
       "<IPython.core.display.HTML object>"
      ]
     },
     "metadata": {
      "tags": []
     },
     "output_type": "display_data"
    },
    {
     "name": "stdout",
     "output_type": "stream",
     "text": [
      "I say a random thing about blacks in america ('not_toxic', tensor(0), tensor([0.6662, 0.3338]))\n"
     ]
    }
   ],
   "source": [
    "# Here are a bunch of other sentences you can try as well:\n",
    "sentences = ['mexicans',\n",
    "             'canadians',\n",
    "             'french',\n",
    "             'italian',\n",
    "             'I say a random thing about blacks in america',\n",
    "             'you say a random thing about blacks in america',\n",
    "             'I say a thing about muslims',\n",
    "             'you say a thing about muslims',\n",
    "             'I am a black woman',\n",
    "             'you are a black woman']\n",
    "\n",
    "rand_sentence = np.random.choice(sentences)\n",
    "print(rand_sentence, learn.predict(rand_sentence))"
   ]
  },
  {
   "cell_type": "markdown",
   "metadata": {
    "colab_type": "text",
    "id": "-eqXqlEM9yr4"
   },
   "source": [
    "## What happened ?"
   ]
  },
  {
   "cell_type": "code",
   "execution_count": 0,
   "metadata": {
    "colab": {},
    "colab_type": "code",
    "id": "C7WcX4_193J9"
   },
   "outputs": [],
   "source": [
    "# It's possible that whenever people start speaking about ethnicity, the conversation starts becoming heated. Let's investigate:"
   ]
  },
  {
   "cell_type": "code",
   "execution_count": 0,
   "metadata": {
    "colab": {
     "base_uri": "https://localhost:8080/",
     "height": 69
    },
    "colab_type": "code",
    "id": "fzZXGhFa8_8I",
    "outputId": "b1e035c5-0086-4303-bb4a-c84bb7128c2b"
   },
   "outputs": [
    {
     "data": {
      "text/plain": [
       "not_toxic    76\n",
       "toxic        34\n",
       "Name: label, dtype: int64"
      ]
     },
     "execution_count": 23,
     "metadata": {
      "tags": []
     },
     "output_type": "execute_result"
    }
   ],
   "source": [
    "# Out of 110 comments that contain \"mulsim\", about a third are \"toxic\"\n",
    "df[ df['text'].str.contains('muslim') ]['label'].value_counts()"
   ]
  },
  {
   "cell_type": "markdown",
   "metadata": {
    "colab_type": "text",
    "id": "aN8uw_Xg9o_H"
   },
   "source": [
    "Out of the whole dataset I provided you, the ratio (toxic comments / total) is way lower than that. So the model probably started seing a pattern there... "
   ]
  },
  {
   "cell_type": "markdown",
   "metadata": {},
   "source": [
    "For your information, it's _exactly_ what happened in real life. The competition went on, goot models were produced, Jigsaw put them online. Somebody on the internet tried some sentences (see <a href='https://twitter.com/jessamyn/status/901476036956782593'> here </a>) and realized how biased the outcome was..."
   ]
  },
  {
   "cell_type": "markdown",
   "metadata": {},
   "source": [
    "Here is the table that person came out with:\n",
    "<img src='illustrations/jigsaw.jpeg'>"
   ]
  },
  {
   "cell_type": "markdown",
   "metadata": {
    "colab_type": "text",
    "id": "kjfIQSqa_d_n"
   },
   "source": [
    "If you are interested in how you could mitigate this bias, a second competition happened on Kaggle to tackle exactly that problem. You can find it <a href='https://www.kaggle.com/c/jigsaw-unintended-bias-in-toxicity-classification'>here</a>. But I don't recommend get into this before the end of the course, because the top solutions are actually pretty involved. "
   ]
  },
  {
   "cell_type": "markdown",
   "metadata": {},
   "source": []
  },
  {
   "cell_type": "code",
   "execution_count": null,
   "metadata": {},
   "outputs": [],
   "source": []
  },
  {
   "cell_type": "markdown",
   "metadata": {
    "colab_type": "text",
    "id": "4O7OoAGx12Yv"
   },
   "source": [
    "# Further work\n",
    "In the path folder, there are other csv files. One contains the test dataset with the comments, another one the labels for the test dataset (the two files are separate because during the competition only the comments were available, the labels were provided afterwards). \n",
    "\n",
    "There is also the full training dataset (train.csv) with more comments than in the sample I provided you.\n",
    "\n"
   ]
  },
  {
   "cell_type": "code",
   "execution_count": 0,
   "metadata": {
    "colab": {
     "base_uri": "https://localhost:8080/",
     "height": 54
    },
    "colab_type": "code",
    "id": "IhypBSxSaIsS",
    "outputId": "122c0faf-ea5f-4563-fc76-4eab95c05b9b"
   },
   "outputs": [
    {
     "data": {
      "text/plain": [
       "(#5) [Path('gdrive/My Drive/FastPractice/datasets/jigsaw/jigsaw-toxic-comment-classification-challenge/train.csv'),Path('gdrive/My Drive/FastPractice/datasets/jigsaw/jigsaw-toxic-comment-classification-challenge/test.csv'),Path('gdrive/My Drive/FastPractice/datasets/jigsaw/jigsaw-toxic-comment-classification-challenge/sample_submission.csv'),Path('gdrive/My Drive/FastPractice/datasets/jigsaw/jigsaw-toxic-comment-classification-challenge/test_labels.csv'),Path('gdrive/My Drive/FastPractice/datasets/jigsaw/jigsaw-toxic-comment-classification-challenge/fastpractice_df.csv')]"
      ]
     },
     "execution_count": 11,
     "metadata": {
      "tags": []
     },
     "output_type": "execute_result"
    }
   ],
   "source": [
    "path.ls()"
   ]
  },
  {
   "cell_type": "markdown",
   "metadata": {
    "colab_type": "text",
    "id": "UyoIg0RObSmm"
   },
   "source": [
    "If you want more challenge, you can retrain using this whole dataset and see how you would perform on the test set !\n",
    "\n",
    "Beware though, the train dataset is harder to pass to the DataLoaders Function that the sample I've provided you. There will be some data preprocessing before you can use it ;) "
   ]
  }
 ],
 "metadata": {
  "accelerator": "GPU",
  "colab": {
   "collapsed_sections": [],
   "name": "What could go wrong ? Part 2 Jigsaw ",
   "provenance": []
  },
  "kernelspec": {
   "display_name": "Python 3",
   "language": "python",
   "name": "python3"
  },
  "language_info": {
   "codemirror_mode": {
    "name": "ipython",
    "version": 3
   },
   "file_extension": ".py",
   "mimetype": "text/x-python",
   "name": "python",
   "nbconvert_exporter": "python",
   "pygments_lexer": "ipython3",
   "version": "3.7.4"
  }
 },
 "nbformat": 4,
 "nbformat_minor": 1
}
